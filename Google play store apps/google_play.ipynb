{
 "cells": [
  {
   "cell_type": "code",
   "execution_count": 120,
   "metadata": {},
   "outputs": [
    {
     "name": "stdout",
     "output_type": "stream",
     "text": [
      "                                                 App        Category  Rating  \\\n",
      "0     Photo Editor & Candy Camera & Grid & ScrapBook  ART_AND_DESIGN     4.1   \n",
      "1                                Coloring book moana  ART_AND_DESIGN     3.9   \n",
      "2  U Launcher Lite – FREE Live Cool Themes, Hide ...  ART_AND_DESIGN     4.7   \n",
      "3                              Sketch - Draw & Paint  ART_AND_DESIGN     4.5   \n",
      "4              Pixel Draw - Number Art Coloring Book  ART_AND_DESIGN     4.3   \n",
      "\n",
      "  Reviews  Size     Installs  Type Price Content Rating  \\\n",
      "0     159   19M      10,000+  Free     0       Everyone   \n",
      "1     967   14M     500,000+  Free     0       Everyone   \n",
      "2   87510  8.7M   5,000,000+  Free     0       Everyone   \n",
      "3  215644   25M  50,000,000+  Free     0           Teen   \n",
      "4     967  2.8M     100,000+  Free     0       Everyone   \n",
      "\n",
      "                      Genres      Last Updated         Current Ver  \\\n",
      "0               Art & Design   January 7, 2018               1.0.0   \n",
      "1  Art & Design;Pretend Play  January 15, 2018               2.0.0   \n",
      "2               Art & Design    August 1, 2018               1.2.4   \n",
      "3               Art & Design      June 8, 2018  Varies with device   \n",
      "4    Art & Design;Creativity     June 20, 2018                 1.1   \n",
      "\n",
      "    Android Ver  \n",
      "0  4.0.3 and up  \n",
      "1  4.0.3 and up  \n",
      "2  4.0.3 and up  \n",
      "3    4.2 and up  \n",
      "4    4.4 and up  \n",
      "<class 'pandas.core.frame.DataFrame'>\n",
      "RangeIndex: 10841 entries, 0 to 10840\n",
      "Data columns (total 13 columns):\n",
      " #   Column          Non-Null Count  Dtype  \n",
      "---  ------          --------------  -----  \n",
      " 0   App             10841 non-null  object \n",
      " 1   Category        10841 non-null  object \n",
      " 2   Rating          9367 non-null   float64\n",
      " 3   Reviews         10841 non-null  object \n",
      " 4   Size            10841 non-null  object \n",
      " 5   Installs        10841 non-null  object \n",
      " 6   Type            10840 non-null  object \n",
      " 7   Price           10841 non-null  object \n",
      " 8   Content Rating  10840 non-null  object \n",
      " 9   Genres          10841 non-null  object \n",
      " 10  Last Updated    10841 non-null  object \n",
      " 11  Current Ver     10833 non-null  object \n",
      " 12  Android Ver     10838 non-null  object \n",
      "dtypes: float64(1), object(12)\n",
      "memory usage: 1.1+ MB\n",
      "None\n"
     ]
    }
   ],
   "source": [
    "# Use this cell to begin your analysis, and add as many as you would like!\n",
    "import pandas as pd\n",
    "data=pd.read_csv('googleplaystore.csv')\n",
    "print(data.head())\n",
    "print(data.info())"
   ]
  },
  {
   "cell_type": "markdown",
   "metadata": {},
   "source": [
    "remove symbol from Installs and price"
   ]
  },
  {
   "cell_type": "code",
   "execution_count": 121,
   "metadata": {},
   "outputs": [
    {
     "name": "stdout",
     "output_type": "stream",
     "text": [
      "                                                 App        Category  Rating  \\\n",
      "0     Photo Editor & Candy Camera & Grid & ScrapBook  ART_AND_DESIGN     4.1   \n",
      "1                                Coloring book moana  ART_AND_DESIGN     3.9   \n",
      "2  U Launcher Lite – FREE Live Cool Themes, Hide ...  ART_AND_DESIGN     4.7   \n",
      "3                              Sketch - Draw & Paint  ART_AND_DESIGN     4.5   \n",
      "4              Pixel Draw - Number Art Coloring Book  ART_AND_DESIGN     4.3   \n",
      "\n",
      "  Reviews  Size  Installs  Type Price Content Rating  \\\n",
      "0     159   19M     10000  Free     0       Everyone   \n",
      "1     967   14M    500000  Free     0       Everyone   \n",
      "2   87510  8.7M   5000000  Free     0       Everyone   \n",
      "3  215644   25M  50000000  Free     0           Teen   \n",
      "4     967  2.8M    100000  Free     0       Everyone   \n",
      "\n",
      "                      Genres      Last Updated         Current Ver  \\\n",
      "0               Art & Design   January 7, 2018               1.0.0   \n",
      "1  Art & Design;Pretend Play  January 15, 2018               2.0.0   \n",
      "2               Art & Design    August 1, 2018               1.2.4   \n",
      "3               Art & Design      June 8, 2018  Varies with device   \n",
      "4    Art & Design;Creativity     June 20, 2018                 1.1   \n",
      "\n",
      "    Android Ver  \n",
      "0  4.0.3 and up  \n",
      "1  4.0.3 and up  \n",
      "2  4.0.3 and up  \n",
      "3    4.2 and up  \n",
      "4    4.4 and up  \n",
      "<class 'pandas.core.frame.DataFrame'>\n",
      "RangeIndex: 10841 entries, 0 to 10840\n",
      "Data columns (total 13 columns):\n",
      " #   Column          Non-Null Count  Dtype  \n",
      "---  ------          --------------  -----  \n",
      " 0   App             10841 non-null  object \n",
      " 1   Category        10841 non-null  object \n",
      " 2   Rating          9367 non-null   float64\n",
      " 3   Reviews         10841 non-null  object \n",
      " 4   Size            10841 non-null  object \n",
      " 5   Installs        10841 non-null  object \n",
      " 6   Type            10840 non-null  object \n",
      " 7   Price           10841 non-null  object \n",
      " 8   Content Rating  10840 non-null  object \n",
      " 9   Genres          10841 non-null  object \n",
      " 10  Last Updated    10841 non-null  object \n",
      " 11  Current Ver     10833 non-null  object \n",
      " 12  Android Ver     10838 non-null  object \n",
      "dtypes: float64(1), object(12)\n",
      "memory usage: 1.1+ MB\n",
      "None\n"
     ]
    }
   ],
   "source": [
    "remove_sym = [',','+','M','$']\n",
    "remove_col=['Installs', 'Price']\n",
    "for col in remove_col:\n",
    "    for n in remove_sym:\n",
    "        data[col]=data[col].apply(lambda x: x.replace(n, \"\"))\n",
    "print(data.head())\n",
    "print(data.info())"
   ]
  },
  {
   "cell_type": "markdown",
   "metadata": {},
   "source": [
    "remove row that has false column data and change data type of Installs, Reviews and Price"
   ]
  },
  {
   "cell_type": "code",
   "execution_count": 122,
   "metadata": {},
   "outputs": [
    {
     "name": "stdout",
     "output_type": "stream",
     "text": [
      "                                           App Category  Rating Reviews  \\\n",
      "10472  Life Made WI-Fi Touchscreen Photo Frame      1.9    19.0    3.0M   \n",
      "\n",
      "         Size Installs Type     Price Content Rating             Genres  \\\n",
      "10472  1,000+     Free    0  Everyone            NaN  February 11, 2018   \n",
      "\n",
      "      Last Updated Current Ver Android Ver  \n",
      "10472       1.0.19  4.0 and up         NaN  \n",
      "<class 'pandas.core.frame.DataFrame'>\n",
      "Int64Index: 10840 entries, 0 to 10840\n",
      "Data columns (total 13 columns):\n",
      " #   Column          Non-Null Count  Dtype  \n",
      "---  ------          --------------  -----  \n",
      " 0   App             10840 non-null  object \n",
      " 1   Category        10840 non-null  object \n",
      " 2   Rating          9366 non-null   float64\n",
      " 3   Reviews         10840 non-null  int32  \n",
      " 4   Size            10840 non-null  object \n",
      " 5   Installs        10840 non-null  int32  \n",
      " 6   Type            10839 non-null  object \n",
      " 7   Price           10840 non-null  float64\n",
      " 8   Content Rating  10840 non-null  object \n",
      " 9   Genres          10840 non-null  object \n",
      " 10  Last Updated    10840 non-null  object \n",
      " 11  Current Ver     10832 non-null  object \n",
      " 12  Android Ver     10838 non-null  object \n",
      "dtypes: float64(2), int32(2), object(9)\n",
      "memory usage: 1.1+ MB\n",
      "None\n"
     ]
    }
   ],
   "source": [
    "print(data[data['Installs']=='Free'])\n",
    "data.drop(data[data['Installs']=='Free'].index,inplace=True)\n",
    "data[['Installs','Reviews']]=data[['Installs','Reviews']].astype(int)\n",
    "data['Price']=data['Price'].astype(float)\n",
    "apps=data\n",
    "print(apps.info())"
   ]
  },
  {
   "cell_type": "markdown",
   "metadata": {},
   "source": [
    "Group data by Category and select data to show"
   ]
  },
  {
   "cell_type": "code",
   "execution_count": 123,
   "metadata": {},
   "outputs": [
    {
     "name": "stdout",
     "output_type": "stream",
     "text": [
      "                     Number of apps  Average rating  Average price\n",
      "Category                                                          \n",
      "ART_AND_DESIGN                   65        4.358065       0.091846\n",
      "AUTO_AND_VEHICLES                85        4.190411       0.158471\n",
      "BEAUTY                           53        4.278571       0.000000\n",
      "BOOKS_AND_REFERENCE             231        4.346067       0.518485\n",
      "BUSINESS                        460        4.121452       0.402761\n",
      "COMICS                           60        4.155172       0.000000\n",
      "COMMUNICATION                   387        4.158537       0.214832\n",
      "DATING                          234        3.970769       0.134316\n",
      "EDUCATION                       156        4.389032       0.115128\n",
      "ENTERTAINMENT                   149        4.126174       0.053557\n",
      "EVENTS                           64        4.435556       1.718594\n",
      "FAMILY                         1972        4.192272       1.234675\n",
      "FINANCE                         366        4.131889       7.925765\n",
      "FOOD_AND_DRINK                  127        4.166972       0.066772\n",
      "GAME                           1144        4.286326       0.251136\n",
      "HEALTH_AND_FITNESS              341        4.277104       0.197478\n",
      "HOUSE_AND_HOME                   88        4.197368       0.000000\n",
      "LIBRARIES_AND_DEMO               85        4.178462       0.011647\n",
      "LIFESTYLE                       382        4.094904       6.180288\n",
      "MAPS_AND_NAVIGATION             137        4.051613       0.196715\n",
      "MEDICAL                         463        4.189143       3.110065\n",
      "NEWS_AND_MAGAZINES              283        4.132189       0.014064\n",
      "PARENTING                        60        4.300000       0.159667\n",
      "PERSONALIZATION                 392        4.335987       0.392755\n",
      "PHOTOGRAPHY                     335        4.192114       0.400627\n",
      "PRODUCTIVITY                    424        4.211396       0.591816\n",
      "SHOPPING                        260        4.259664       0.021077\n",
      "SOCIAL                          295        4.255598       0.054136\n",
      "SPORTS                          384        4.223511       0.260417\n",
      "TOOLS                           843        4.047411       0.317023\n",
      "TRAVEL_AND_LOCAL                258        4.109292       0.193605\n",
      "VIDEO_PLAYERS                   175        4.063750       0.059771\n",
      "WEATHER                          82        4.244000       0.395366\n"
     ]
    }
   ],
   "source": [
    "count_data=apps.groupby('Category').count()\n",
    "\n",
    "app_category_info=apps.groupby('Category').mean()\n",
    "app_category_info.drop(['Reviews','Installs'],axis=1,inplace=True)\n",
    "app_category_info.insert(loc=0, column='Number of apps', value=count_data['App'], allow_duplicates=True)\n",
    "app_category_info.rename(columns={'Rating':'Average rating','Price':'Average price'},inplace=True)\n",
    "\n",
    "print(app_category_info)"
   ]
  },
  {
   "cell_type": "markdown",
   "metadata": {},
   "source": [
    "Read review data from googleplaystore_user_reviews.csv file"
   ]
  },
  {
   "cell_type": "code",
   "execution_count": 124,
   "metadata": {},
   "outputs": [
    {
     "name": "stdout",
     "output_type": "stream",
     "text": [
      "                     App                                  Translated_Review  \\\n",
      "0  10 Best Foods for You  I like eat delicious food. That's I'm cooking ...   \n",
      "1  10 Best Foods for You    This help eating healthy exercise regular basis   \n",
      "2  10 Best Foods for You                                                NaN   \n",
      "3  10 Best Foods for You         Works great especially going grocery store   \n",
      "4  10 Best Foods for You                                       Best idea us   \n",
      "\n",
      "  Sentiment  Sentiment_Polarity  Sentiment_Subjectivity  \n",
      "0  Positive                1.00                0.533333  \n",
      "1  Positive                0.25                0.288462  \n",
      "2       NaN                 NaN                     NaN  \n",
      "3  Positive                0.40                0.875000  \n",
      "4  Positive                1.00                0.300000  \n"
     ]
    }
   ],
   "source": [
    "review_data=pd.read_csv('googleplaystore_user_reviews.csv')\n",
    "print(review_data.head())"
   ]
  },
  {
   "cell_type": "markdown",
   "metadata": {},
   "source": [
    "Merge 2 dataframes together and select Finance category to analyst"
   ]
  },
  {
   "cell_type": "code",
   "execution_count": 125,
   "metadata": {},
   "outputs": [
    {
     "name": "stdout",
     "output_type": "stream",
     "text": [
      "                     App                                  Translated_Review  \\\n",
      "0  10 Best Foods for You  I like eat delicious food. That's I'm cooking ...   \n",
      "1  10 Best Foods for You  I like eat delicious food. That's I'm cooking ...   \n",
      "2  10 Best Foods for You    This help eating healthy exercise regular basis   \n",
      "3  10 Best Foods for You    This help eating healthy exercise regular basis   \n",
      "4  10 Best Foods for You                                                NaN   \n",
      "\n",
      "  Sentiment  Sentiment_Polarity  Sentiment_Subjectivity            Category  \\\n",
      "0  Positive                1.00                0.533333  HEALTH_AND_FITNESS   \n",
      "1  Positive                1.00                0.533333  HEALTH_AND_FITNESS   \n",
      "2  Positive                0.25                0.288462  HEALTH_AND_FITNESS   \n",
      "3  Positive                0.25                0.288462  HEALTH_AND_FITNESS   \n",
      "4       NaN                 NaN                     NaN  HEALTH_AND_FITNESS   \n",
      "\n",
      "   Rating  Reviews  Size  Installs  Type  Price Content Rating  \\\n",
      "0     4.0   2490.0  3.8M  500000.0  Free    0.0   Everyone 10+   \n",
      "1     4.0   2490.0  3.8M  500000.0  Free    0.0   Everyone 10+   \n",
      "2     4.0   2490.0  3.8M  500000.0  Free    0.0   Everyone 10+   \n",
      "3     4.0   2490.0  3.8M  500000.0  Free    0.0   Everyone 10+   \n",
      "4     4.0   2490.0  3.8M  500000.0  Free    0.0   Everyone 10+   \n",
      "\n",
      "             Genres       Last Updated Current Ver   Android Ver  \n",
      "0  Health & Fitness  February 17, 2017         1.9  2.3.3 and up  \n",
      "1  Health & Fitness  February 17, 2017         1.9  2.3.3 and up  \n",
      "2  Health & Fitness  February 17, 2017         1.9  2.3.3 and up  \n",
      "3  Health & Fitness  February 17, 2017         1.9  2.3.3 and up  \n",
      "4  Health & Fitness  February 17, 2017         1.9  2.3.3 and up  \n",
      "                                           Sentiment_Polarity  \\\n",
      "App                                                             \n",
      "BBVA Spain                                           0.515086   \n",
      "Associated Credit Union Mobile                       0.388093   \n",
      "BankMobile Vibe App                                  0.353455   \n",
      "A+ Mobile                                            0.329592   \n",
      "Current debit card and app made for teens            0.327258   \n",
      "\n",
      "                                           Sentiment_Subjectivity  Rating  \\\n",
      "App                                                                         \n",
      "BBVA Spain                                               0.594632     4.2   \n",
      "Associated Credit Union Mobile                           0.559535     4.7   \n",
      "BankMobile Vibe App                                      0.564610     4.3   \n",
      "A+ Mobile                                                0.522708     3.9   \n",
      "Current debit card and app made for teens                0.472189     4.3   \n",
      "\n",
      "                                           Reviews   Installs  Price  \n",
      "App                                                                   \n",
      "BBVA Spain                                 36746.0  5000000.0    0.0  \n",
      "Associated Credit Union Mobile              3290.0    50000.0    0.0  \n",
      "BankMobile Vibe App                        14627.0  1000000.0    0.0  \n",
      "A+ Mobile                                    730.0    10000.0    0.0  \n",
      "Current debit card and app made for teens    685.0    50000.0    0.0  \n"
     ]
    }
   ],
   "source": [
    "apps_review=review_data.merge(apps,how='left', on='App')\n",
    "print(apps_review.head())\n",
    "finance_review=apps_review[apps_review['Category']=='FINANCE']\n",
    "avg_finance_review=finance_review.groupby('App').mean().sort_values('Sentiment_Polarity',ascending=False)\n",
    "print(avg_finance_review.head())"
   ]
  },
  {
   "cell_type": "markdown",
   "metadata": {},
   "source": [
    "Show 10 highest average reviews score of Finance category apps"
   ]
  },
  {
   "cell_type": "code",
   "execution_count": 126,
   "metadata": {},
   "outputs": [
    {
     "name": "stdout",
     "output_type": "stream",
     "text": [
      "                                            Sentiment_Polarity\n",
      "App                                                           \n",
      "BBVA Spain                                            0.515086\n",
      "Associated Credit Union Mobile                        0.388093\n",
      "BankMobile Vibe App                                   0.353455\n",
      "A+ Mobile                                             0.329592\n",
      "Current debit card and app made for teens             0.327258\n",
      "BZWBK24 mobile                                        0.326883\n",
      "Even - organize your money, get paid early            0.283929\n",
      "Credit Karma                                          0.270052\n",
      "Fortune City - A Finance App                          0.266966\n",
      "Branch                                                0.264230\n"
     ]
    }
   ],
   "source": [
    "top_10_user_feedback=avg_finance_review.iloc[:10,:1]\n",
    "print(top_10_user_feedback)"
   ]
  }
 ],
 "metadata": {
  "interpreter": {
   "hash": "8ef7fa80afc8c7cda5514aafd18d46a1bb8a7176ad2376ac57d479cd6842a3d8"
  },
  "kernelspec": {
   "display_name": "Python 3.10.1 64-bit ('.venv': venv)",
   "language": "python",
   "name": "python3"
  },
  "language_info": {
   "codemirror_mode": {
    "name": "ipython",
    "version": 3
   },
   "file_extension": ".py",
   "mimetype": "text/x-python",
   "name": "python",
   "nbconvert_exporter": "python",
   "pygments_lexer": "ipython3",
   "version": "3.10.1"
  },
  "orig_nbformat": 4
 },
 "nbformat": 4,
 "nbformat_minor": 2
}
